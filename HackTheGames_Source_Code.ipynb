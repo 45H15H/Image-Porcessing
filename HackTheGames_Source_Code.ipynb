{
 "cells": [
  {
   "cell_type": "markdown",
   "id": "67d51e87",
   "metadata": {},
   "source": [
    "# <center>Game Automation Using Hand Gestures!</center>\n",
    "                                                                                                       -- HackTheGames 2.0"
   ]
  },
  {
   "cell_type": "markdown",
   "id": "4dda9ac7",
   "metadata": {},
   "source": [
    "## **Importing Required Libraries**"
   ]
  },
  {
   "cell_type": "code",
   "execution_count": 11,
   "id": "cb344bef",
   "metadata": {},
   "outputs": [],
   "source": [
    "import cv2\n",
    "from cvzone.HandTrackingModule import HandDetector\n",
    "import time"
   ]
  },
  {
   "cell_type": "markdown",
   "id": "dc581892",
   "metadata": {},
   "source": [
    "## **Getting Started with OpenCV**"
   ]
  },
  {
   "cell_type": "code",
   "execution_count": 31,
   "id": "543a7e0e",
   "metadata": {},
   "outputs": [],
   "source": [
    "detector = HandDetector(detectionCon=0.8, maxHands=2)\n",
    "time.sleep(2.0)\n",
    "video = cv2.VideoCapture(0)"
   ]
  },
  {
   "cell_type": "code",
   "execution_count": 32,
   "id": "d80d1fae",
   "metadata": {},
   "outputs": [],
   "source": [
    "while True:\n",
    "    ret, frame = video.read()\n",
    "    video.set(cv2.CAP_PROP_FRAME_WIDTH, 1000)\n",
    "    video.set(cv2.CAP_PROP_FRAME_HEIGHT, 2000)\n",
    "    hands, img = detector.findHands(frame)\n",
    "    cv2.rectangle(img, (0, 480), (300, 425), (50, 50, 255), -2)\n",
    "    cv2.rectangle(img, (640, 480), (400, 425), (50, 50, 255), -2)\n",
    "    cv2.imshow(\"HackTheGames\", frame)\n",
    "    k = cv2.waitKey(1)\n",
    "    if k == ord('q'):\n",
    "        break\n",
    "\n",
    "video.release()\n",
    "cv2.destroyAllWindows()"
   ]
  },
  {
   "cell_type": "markdown",
   "id": "190481c2",
   "metadata": {},
   "source": [
    "## **The frame has been created**\n",
    "## **Now let's test it by creating a simple program for counting fingers**"
   ]
  },
  {
   "cell_type": "code",
   "execution_count": 19,
   "id": "ac31f013",
   "metadata": {},
   "outputs": [],
   "source": [
    "detector = HandDetector(detectionCon=0.8, maxHands=2)\n",
    "time.sleep(2.0)\n",
    "video = cv2.VideoCapture(0)"
   ]
  },
  {
   "cell_type": "code",
   "execution_count": 20,
   "id": "91b2dd4f",
   "metadata": {},
   "outputs": [],
   "source": [
    "while True:\n",
    "    ret, frame = video.read()\n",
    "    hands, img = detector.findHands(frame)\n",
    "    cv2.rectangle(img, (0, 480), (300, 425), (50, 50, 255), -2)\n",
    "    cv2.rectangle(img, (640, 480), (400, 425), (50, 50, 255), -2)\n",
    "    \n",
    "    #If hands are detected, fingerUp is assigned to a list which tells us\n",
    "    #which fingers are raised and which aren't.\n",
    "    if(hands):\n",
    "        lmList = hands[0]\n",
    "        fingerUp = detector.fingersUp(lmList)\n",
    "        cv2.putText(frame, 'Finger count is:', (20, 460),\n",
    "        cv2.FONT_HERSHEY_COMPLEX, 1, (255, 255, 255), 1,\n",
    "        cv2.LINE_AA)       \n",
    "        cv2.putText(frame, str(sum(fingerUp)), (420, 460),\n",
    "        cv2.FONT_HERSHEY_COMPLEX, 1, (255, 255, 255), 1,\n",
    "        cv2.LINE_AA)\n",
    "        \n",
    "    cv2.imshow(\"Frame\", frame)\n",
    "    k = cv2.waitKey(1)\n",
    "    if k == ord('q'):\n",
    "        break    \n",
    "\n",
    "video.release()\n",
    "cv2.destroyAllWindows() "
   ]
  },
  {
   "cell_type": "markdown",
   "id": "5a71ced2",
   "metadata": {},
   "source": [
    "## **Introducing Pyautogui library**"
   ]
  },
  {
   "cell_type": "markdown",
   "id": "199c9f24",
   "metadata": {},
   "source": [
    "### PyAutoGUI lets your Python scripts control the mouse and keyboard to automate interactions with other applications."
   ]
  },
  {
   "cell_type": "code",
   "execution_count": 1,
   "id": "b9221136",
   "metadata": {},
   "outputs": [],
   "source": [
    "# If the library does not exists in your system the below code will download it automatically!\n",
    "# !pip install pyautogui\n",
    "\n",
    "import pyautogui as pag "
   ]
  },
  {
   "cell_type": "markdown",
   "id": "8702bd66",
   "metadata": {},
   "source": [
    "### pag.keyDown(key)  - Used for holding the key \n",
    "### pag.keyUp(key) - Used for releasing the key \n",
    "### pag.press(key) - pag.keyDown(key) + pag.keyUp(key)"
   ]
  },
  {
   "cell_type": "code",
   "execution_count": 8,
   "id": "88c48623",
   "metadata": {},
   "outputs": [],
   "source": [
    "pag.keyDown('ctrl')\n",
    "pag.press('c')\n",
    "pag.keyUp('ctrl')"
   ]
  },
  {
   "cell_type": "code",
   "execution_count": 9,
   "id": "8cd1677d",
   "metadata": {},
   "outputs": [],
   "source": [
    "#This text needs to be copied"
   ]
  },
  {
   "cell_type": "code",
   "execution_count": 10,
   "id": "13d16575",
   "metadata": {},
   "outputs": [],
   "source": [
    "pag.keyDown('ctrl')\n",
    "pag.press('v')\n",
    "pag.keyUp('ctrl')"
   ]
  },
  {
   "cell_type": "markdown",
   "id": "9e1e16c1",
   "metadata": {},
   "source": [
    "### The above example demonstrated copy paste of a given text using PyAutoGUI"
   ]
  },
  {
   "cell_type": "markdown",
   "id": "0963dd19",
   "metadata": {},
   "source": [
    "### Now we are ready automate a Hill race climbing game using hand gestures "
   ]
  },
  {
   "cell_type": "code",
   "execution_count": 15,
   "id": "21aa784a",
   "metadata": {},
   "outputs": [],
   "source": [
    "import cv2\n",
    "from cvzone.HandTrackingModule import HandDetector\n",
    "import time\n",
    "import pyautogui\n",
    "\n",
    "detector = HandDetector(detectionCon=0.8, maxHands=1)\n",
    "\n",
    "time.sleep(2.0)\n",
    "\n",
    "video = cv2.VideoCapture(0)\n",
    "\n",
    "prev_key = \"nothing\"\n",
    "\n",
    "while True:\n",
    "    ret, frame = video.read()\n",
    "    video.set(cv2.CAP_PROP_FRAME_WIDTH, 1000)\n",
    "    video.set(cv2.CAP_PROP_FRAME_HEIGHT, 2000)\n",
    "    hands, img = detector.findHands(frame)\n",
    "    cv2.rectangle(img, (0, 480), (300, 425), (50, 50, 255), -2)\n",
    "    cv2.rectangle(img, (640, 480), (400, 425), (50, 50, 255), -2)\n",
    "    if hands:\n",
    "        lmList = hands[0]\n",
    "        fingerUp = detector.fingersUp(lmList)\n",
    "\n",
    "        if fingerUp == [1, 1, 1, 1, 1]:\n",
    "            cv2.putText(frame, 'Right Direction', (20, 460),\n",
    "                        cv2.FONT_HERSHEY_COMPLEX, 1, (255, 255, 255), 1,\n",
    "                        cv2.LINE_AA)\n",
    "            cv2.putText(frame, 'Accelerator', (420, 460),\n",
    "                        cv2.FONT_HERSHEY_COMPLEX, 1, (255, 255, 255), 1,\n",
    "                        cv2.LINE_AA)\n",
    "\n",
    "            if(prev_key == \"left\"):\n",
    "                pyautogui.keyUp('left')\n",
    "                prev_key = \"right\"\n",
    "\n",
    "            pyautogui.keyDown('right')\n",
    "            prev_key = \"right\"\n",
    "\n",
    "        if fingerUp == [0, 0, 0, 0, 0]:\n",
    "            cv2.putText(frame, 'Left Direction', (20, 460),\n",
    "                        cv2.FONT_HERSHEY_COMPLEX, 1, (255, 255, 255), 1,\n",
    "                        cv2.LINE_AA)\n",
    "            cv2.putText(frame, 'Reverse', (420, 460),\n",
    "                        cv2.FONT_HERSHEY_COMPLEX, 1, (255, 255, 255), 1,\n",
    "                        cv2.LINE_AA)\n",
    "\n",
    "            if(prev_key == \"right\"):\n",
    "                pyautogui.keyUp('right')\n",
    "                prev_key = \"left\"\n",
    "\n",
    "            pyautogui.keyDown('left')\n",
    "            prev_key = \"left\"\n",
    "\n",
    "        if(0 < sum(fingerUp) < 5):\n",
    "            cv2.putText(frame, 'Nothing', (20, 460),\n",
    "                        cv2.FONT_HERSHEY_COMPLEX, 1, (255, 255, 255), 1,\n",
    "                        cv2.LINE_AA)\n",
    "            cv2.putText(frame, 'No action', (420, 460),\n",
    "                        cv2.FONT_HERSHEY_COMPLEX, 1, (255, 255, 255), 1,\n",
    "                        cv2.LINE_AA)\n",
    "\n",
    "            if(prev_key == \"right\"):\n",
    "                pyautogui.keyUp('right')\n",
    "                prev_key = \"nothing\"\n",
    "\n",
    "            if(prev_key == \"left\"):\n",
    "                pyautogui.keyUp('left')\n",
    "                prev_key = \"nothing\"\n",
    "\n",
    "    cv2.imshow(\"frame\", frame)\n",
    "    k = cv2.waitKey(1)\n",
    "    if k == ord('q'):\n",
    "        break\n",
    "\n",
    "video.release()\n",
    "cv2.destroyAllWindows()"
   ]
  }
 ],
 "metadata": {
  "kernelspec": {
   "display_name": "ImageProcessing",
   "language": "python",
   "name": "python3"
  },
  "language_info": {
   "codemirror_mode": {
    "name": "ipython",
    "version": 3
   },
   "file_extension": ".py",
   "mimetype": "text/x-python",
   "name": "python",
   "nbconvert_exporter": "python",
   "pygments_lexer": "ipython3",
   "version": "3.10.4"
  },
  "varInspector": {
   "cols": {
    "lenName": 16,
    "lenType": 16,
    "lenVar": 40
   },
   "kernels_config": {
    "python": {
     "delete_cmd_postfix": "",
     "delete_cmd_prefix": "del ",
     "library": "var_list.py",
     "varRefreshCmd": "print(var_dic_list())"
    },
    "r": {
     "delete_cmd_postfix": ") ",
     "delete_cmd_prefix": "rm(",
     "library": "var_list.r",
     "varRefreshCmd": "cat(var_dic_list()) "
    }
   },
   "types_to_exclude": [
    "module",
    "function",
    "builtin_function_or_method",
    "instance",
    "_Feature"
   ],
   "window_display": false
  },
  "vscode": {
   "interpreter": {
    "hash": "debc2121511f37620e4e406b8e25acf7be96315b8b48c387eff272a1baf02ae1"
   }
  }
 },
 "nbformat": 4,
 "nbformat_minor": 5
}
