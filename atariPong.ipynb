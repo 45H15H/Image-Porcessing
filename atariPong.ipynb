{
 "cells": [
  {
   "cell_type": "code",
   "execution_count": 1,
   "metadata": {},
   "outputs": [],
   "source": [
    "from cvzone.HandTrackingModule import HandDetector\n",
    "import cv2"
   ]
  },
  {
   "cell_type": "code",
   "execution_count": null,
   "metadata": {},
   "outputs": [],
   "source": [
    "import pyautogui"
   ]
  },
  {
   "cell_type": "code",
   "execution_count": null,
   "metadata": {},
   "outputs": [],
   "source": [
    "detector = HandDetector(maxHands=1, detectionCon=0.8)"
   ]
  },
  {
   "cell_type": "code",
   "execution_count": null,
   "metadata": {},
   "outputs": [],
   "source": [
    "video_capture = cv2.VideoCapture(0)"
   ]
  },
  {
   "cell_type": "code",
   "execution_count": null,
   "metadata": {},
   "outputs": [],
   "source": [
    "import time\n",
    "time.sleep(5)"
   ]
  },
  {
   "cell_type": "code",
   "execution_count": null,
   "metadata": {},
   "outputs": [],
   "source": [
    "# detect the hand in the video\n",
    "while True:\n",
    "    # Get image frame\n",
    "    isTrue, frames = video_capture.read()\n",
    "\n",
    "    # convert to gray\n",
    "    # gray = cv2.cvtColor(frames, cv2.COLOR_BGR2GRAY)\n",
    "\n",
    "    hands, img = detector.findHands(frames) \n",
    "\n",
    "    if hands: # if there is a hand in the image\n",
    "        # Hand 1\n",
    "        hand = hands[0]\n",
    "        lmList1 = hand[\"lmList\"]  \n",
    "        bbox1 = hand[\"bbox\"]  \n",
    "        centerPoint1 = hand['center']  \n",
    "        # handType1 = hand[\"type\"]\n",
    "\n",
    "        fingers = detector.fingersUp(hand)\n",
    "\n",
    "        if fingers == [1, 1, 1, 1, 1]: # -> if all the fingers are up\n",
    "            # press up\n",
    "            pyautogui.press('up')\n",
    "        elif fingers == [0, 0, 0, 0, 0]: # -> if all the fingers are down\n",
    "            # press down\n",
    "            pyautogui.press('down')\n",
    "\n",
    "\n",
    "    \n",
    "    # Display the resulting frame\n",
    "    cv2.imshow('stream', img)\n",
    "\n",
    "    # to break the loop by pressing 'q'\n",
    "    if cv2.waitKey(1) & 0xFF == ord('q'):\n",
    "        break\n",
    "# destroy all the windows\n",
    "video_capture.release()\n",
    "cv2.destroyAllWindows()"
   ]
  }
 ],
 "metadata": {
  "kernelspec": {
   "display_name": "ImageProcessing",
   "language": "python",
   "name": "python3"
  },
  "language_info": {
   "codemirror_mode": {
    "name": "ipython",
    "version": 3
   },
   "file_extension": ".py",
   "mimetype": "text/x-python",
   "name": "python",
   "nbconvert_exporter": "python",
   "pygments_lexer": "ipython3",
   "version": "3.10.4"
  },
  "orig_nbformat": 4,
  "vscode": {
   "interpreter": {
    "hash": "debc2121511f37620e4e406b8e25acf7be96315b8b48c387eff272a1baf02ae1"
   }
  }
 },
 "nbformat": 4,
 "nbformat_minor": 2
}
