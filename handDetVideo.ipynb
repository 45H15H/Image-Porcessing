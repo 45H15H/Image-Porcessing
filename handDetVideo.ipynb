{
 "cells": [
  {
   "attachments": {},
   "cell_type": "markdown",
   "metadata": {},
   "source": [
    "import the necessary packages"
   ]
  },
  {
   "cell_type": "code",
   "execution_count": 1,
   "metadata": {},
   "outputs": [],
   "source": [
    "# write comments in markdown cells\n",
    "import cv2"
   ]
  },
  {
   "cell_type": "code",
   "execution_count": 2,
   "metadata": {},
   "outputs": [
    {
     "name": "stdout",
     "output_type": "stream",
     "text": [
      "True\n"
     ]
    }
   ],
   "source": [
    "# check if OpenCV is using OpenCL\n",
    "print(cv2.ocl.haveOpenCL())"
   ]
  },
  {
   "cell_type": "code",
   "execution_count": 3,
   "metadata": {},
   "outputs": [],
   "source": [
    "# make sure OpenCV is using OpenCL\n",
    "cv2.ocl.setUseOpenCL(True)\n"
   ]
  },
  {
   "cell_type": "code",
   "execution_count": 4,
   "metadata": {},
   "outputs": [],
   "source": [
    "# load the cascade classifiers\n",
    "classifiers = [cv2.CascadeClassifier('left.xml'), cv2.CascadeClassifier('fist.xml'), cv2.CascadeClassifier('haarcascade_frontalface_default.xml'), cv2.CascadeClassifier('rpalm.xml'), cv2.CascadeClassifier('lpalm.xml'), cv2.CascadeClassifier('palm.xml'), cv2.CascadeClassifier('right.xml')]\n",
    "video_capture = cv2.VideoCapture(0) # 0 means device camera"
   ]
  },
  {
   "cell_type": "code",
   "execution_count": 5,
   "metadata": {},
   "outputs": [],
   "source": [
    "# import pyautogui to control the keyboard\n",
    "import pyautogui"
   ]
  },
  {
   "cell_type": "code",
   "execution_count": 6,
   "metadata": {},
   "outputs": [],
   "source": [
    "# define functions to control the keyboard\n",
    "def move_right():\n",
    "    \"\"\"\n",
    "    press the space key\n",
    "    \"\"\"\n",
    "    pyautogui.press('space')\n",
    "    print(\"space pressed\")"
   ]
  },
  {
   "cell_type": "code",
   "execution_count": 8,
   "metadata": {},
   "outputs": [],
   "source": [
    "cv2.ocl.setUseOpenCL(True)\n",
    "\n",
    "while True:\n",
    "    # Capture frame-by-frame\n",
    "    isTrue, frames = video_capture.read()\n",
    "    # isTrue will hold boolean value if the frame was accessed or not\n",
    "    # frame will hold the each frame of the video in loop \n",
    "\n",
    "    # converting each frame in the video to grayscale\n",
    "    gray = cv2.cvtColor(frames, cv2.COLOR_BGR2GRAY)\n",
    "\n",
    "\n",
    "    # left = classifiers[0].detectMultiScale(gray, scaleFactor=1.1, minNeighbors=5, minSize=(30, 30), flags=cv2.CASCADE_SCALE_IMAGE)\n",
    "\n",
    "    # if len(left) > 0:\n",
    "    #     for (x, y, w, h) in left:\n",
    "    #         cv2.rectangle(frames, (x, y), (x+w, y+h), (0, 255, 0), 2)\n",
    "    #         cv2.rectangle(frames, (x, y), (x + 40, y - 15), (0, 255, 0), -1)\n",
    "    #         cv2.putText(frames, \"LEFT\", (x, y), cv2.FONT_HERSHEY_SIMPLEX, 0.5, (255, 255, 255))\n",
    "\n",
    "    #     # call function for left\n",
    "    \n",
    "    fist = classifiers[1].detectMultiScale(gray, scaleFactor=1.5, minNeighbors=1, minSize=(40, 40), flags=cv2.CASCADE_SCALE_IMAGE)\n",
    "\n",
    "    if len(fist) > 0:\n",
    "        for (x, y, w, h) in fist:\n",
    "            cv2.rectangle(frames, (x, y), (x+w, y+h), (0, 255, 0), 2)\n",
    "            cv2.rectangle(frames, (x, y), (x + 40, y - 15), (0, 255, 0), -1)\n",
    "            cv2.putText(frames, \"FIST\", (x, y), cv2.FONT_HERSHEY_SIMPLEX, 0.5, (255, 255, 255))\n",
    "\n",
    "        # call function for fist\n",
    "        move_right()    \n",
    "    # palm = classifiers[5].detectMultiScale(gray, scaleFactor=1.1, minNeighbors=5, minSize=(30, 30), flags=cv2.CASCADE_SCALE_IMAGE)\n",
    "\n",
    "    # if len(palm) > 0:\n",
    "    #     for (x, y, w, h) in palm:\n",
    "    #         cv2.rectangle(frames, (x, y), (x+w, y+h), (0, 255, 0), 2)\n",
    "    #         cv2.rectangle(frames, (x, y), (x + 40, y - 15), (0, 255, 0), -1)\n",
    "    #         cv2.putText(frames, \"PALM\", (x, y), cv2.FONT_HERSHEY_SIMPLEX, 0.5, (255, 255, 255))\n",
    "\n",
    "    #     # call function for fist\n",
    "    #     print_bye()\n",
    "        \n",
    "    # face = classifiers[2].detectMultiScale(gray, scaleFactor=1.1, minNeighbors=5, minSize=(30, 30), flags=cv2.CASCADE_SCALE_IMAGE)\n",
    "\n",
    "    # if len(face) > 0:\n",
    "    #     for (x, y, w, h) in face:\n",
    "    #         cv2.rectangle(frames, (x, y), (x+w, y+h), (0, 255, 0), 2)\n",
    "    #         cv2.rectangle(frames, (x, y), (x + 40, y - 15), (0, 255, 0), -1)\n",
    "    #         cv2.putText(frames, \"FIST\", (x, y), cv2.FONT_HERSHEY_SIMPLEX, 0.5, (255, 255, 255))\n",
    "\n",
    "    #     # call function for face\n",
    "    \n",
    "    # for classifier in classifiers:\n",
    "    #     objects = classifier.detectMultiScale(\n",
    "    #     gray,\n",
    "    #     scaleFactor=1.1,\n",
    "    #     minNeighbors=5,\n",
    "    #     minSize=(30, 30),\n",
    "    #     flags=cv2.CASCADE_SCALE_IMAGE)\n",
    "\n",
    "    #     # Draw a rectangle around the faces\n",
    "    #     for (x, y, w, h) in objects:\n",
    "    #         cv2.rectangle(frames, (x, y), (x+w, y+h), (0, 255, 0), 2)\n",
    "    #         cv2.rectangle(frames, (x, y), (x + 40, y - 15), (0, 255, 0), -1)\n",
    "    #         cv2.putText(frames, \"FIST\", (x, y), cv2.FONT_HERSHEY_SIMPLEX, 0.5, (255, 255, 255))\n",
    "\n",
    "    # Display the resulting frame\n",
    "    cv2.imshow('Video', frames)\n",
    "\n",
    "    # to break the loop by pressing 'qq'\n",
    "    if cv2.waitKey(1) & 0xFF == ord('q'):\n",
    "        break\n",
    "    \n",
    "    \n",
    "\n",
    "video_capture.release()\n",
    "cv2.destroyAllWindows()"
   ]
  },
  {
   "cell_type": "code",
   "execution_count": 9,
   "metadata": {},
   "outputs": [
    {
     "name": "stdout",
     "output_type": "stream",
     "text": [
      "4.6.0\n"
     ]
    }
   ],
   "source": [
    "print(cv2.__version__)\n"
   ]
  }
 ],
 "metadata": {
  "kernelspec": {
   "display_name": "ImageProcessing",
   "language": "python",
   "name": "python3"
  },
  "language_info": {
   "codemirror_mode": {
    "name": "ipython",
    "version": 3
   },
   "file_extension": ".py",
   "mimetype": "text/x-python",
   "name": "python",
   "nbconvert_exporter": "python",
   "pygments_lexer": "ipython3",
   "version": "3.10.4"
  },
  "orig_nbformat": 4,
  "vscode": {
   "interpreter": {
    "hash": "debc2121511f37620e4e406b8e25acf7be96315b8b48c387eff272a1baf02ae1"
   }
  }
 },
 "nbformat": 4,
 "nbformat_minor": 2
}
