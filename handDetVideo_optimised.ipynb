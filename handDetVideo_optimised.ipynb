{
 "cells": [
  {
   "cell_type": "code",
   "execution_count": 10,
   "metadata": {},
   "outputs": [],
   "source": [
    "# scrip to detect hand gesture in video stream optimized for low end devices\n",
    "\n",
    "# import the necessary packages\n",
    "from imutils.video import VideoStream  # -> video stream from imutils\n",
    "import imutils                         # -> imutils to resize the frame\n",
    "import time                            # -> time to calculate the time\n",
    "import cv2                             # -> opencv to process the image\n"
   ]
  },
  {
   "cell_type": "code",
   "execution_count": 11,
   "metadata": {},
   "outputs": [],
   "source": [
    "# # import selenium to control the browser\n",
    "# import os\n",
    "# from selenium import webdriver\n",
    "# os.environ[\"PATH\"] += \"D:\\ImageProcessing\\OPENCV\\msedgedriver.exe\""
   ]
  },
  {
   "cell_type": "code",
   "execution_count": 12,
   "metadata": {},
   "outputs": [],
   "source": [
    "# # open the browser\n",
    "# driver = webdriver.Edge()\n",
    "# driver.get(\"https://elgoog.im/pacman/\")\n",
    "\n",
    "# # activate the window\n",
    "# driver.switch_to.window(driver.window_handles[0])"
   ]
  },
  {
   "cell_type": "code",
   "execution_count": 13,
   "metadata": {},
   "outputs": [],
   "source": [
    "# control the keyboard with the most efficient library\n",
    "from pynput.keyboard import Key, Controller\n",
    "keyboard = Controller()\n"
   ]
  },
  {
   "cell_type": "code",
   "execution_count": 14,
   "metadata": {},
   "outputs": [],
   "source": [
    "\n",
    "# make a function to press space when the fist is detected\n",
    "def press_right():\n",
    "    \"\"\"\n",
    "    do a simple jump for chrome dinosaur game\n",
    "    \"\"\"\n",
    "    keyboard.press(Key.left)\n",
    "    keyboard.release(Key.left)\n",
    "\n",
    "\n",
    "# make a function to press down when palm is detected\n",
    "def press_left():\n",
    "    \"\"\"\n",
    "    do a simple down for chrome dinosaur game\n",
    "    \"\"\"\n",
    "    keyboard.press(Key.right)\n",
    "    keyboard.release(Key.right)\n"
   ]
  },
  {
   "cell_type": "code",
   "execution_count": 15,
   "metadata": {},
   "outputs": [],
   "source": [
    "# load the cascade classifiers\n",
    "left_hand = cv2.CascadeClassifier('left.xml')\n",
    "right_hand = cv2.CascadeClassifier('right.xml')\n",
    "palm_ = cv2.CascadeClassifier('palm.xml')\n",
    "fist_ = cv2.CascadeClassifier('fist.xml')"
   ]
  },
  {
   "cell_type": "code",
   "execution_count": 16,
   "metadata": {},
   "outputs": [
    {
     "name": "stdout",
     "output_type": "stream",
     "text": [
      "[INFO] starting video stream...\n"
     ]
    }
   ],
   "source": [
    "# initialize the video stream and allow the camera sensor to warm up\n",
    "print(\"[INFO] starting video stream...\")\n",
    "vs = VideoStream(src=0).start()\n",
    "time.sleep(2.0)"
   ]
  },
  {
   "cell_type": "code",
   "execution_count": 17,
   "metadata": {},
   "outputs": [
    {
     "name": "stdout",
     "output_type": "stream",
     "text": [
      "good\n",
      "good\n",
      "bad\n",
      "bad\n",
      "bad\n",
      "good\n",
      "bad\n",
      "good\n",
      "bad\n",
      "good\n",
      "bad\n",
      "bad\n",
      "bad\n",
      "bad\n",
      "good\n",
      "bad\n",
      "bad\n",
      "bad\n",
      "bad\n",
      "bad\n",
      "bad\n",
      "bad\n",
      "bad\n",
      "bad\n",
      "bad\n",
      "bad\n",
      "bad\n",
      "bad\n",
      "bad\n",
      "bad\n",
      "bad\n",
      "bad\n",
      "bad\n",
      "bad\n",
      "bad\n",
      "bad\n",
      "bad\n",
      "bad\n",
      "good\n",
      "bad\n",
      "good\n",
      "bad\n",
      "good\n",
      "bad\n",
      "good\n",
      "good\n",
      "good\n",
      "good\n",
      "good\n",
      "good\n",
      "good\n",
      "good\n",
      "good\n",
      "good\n",
      "good\n",
      "good\n",
      "good\n",
      "good\n",
      "bad\n",
      "good\n",
      "bad\n",
      "bad\n",
      "bad\n",
      "bad\n",
      "bad\n",
      "bad\n",
      "bad\n",
      "bad\n",
      "bad\n",
      "bad\n",
      "bad\n",
      "bad\n",
      "bad\n",
      "bad\n",
      "bad\n",
      "bad\n",
      "bad\n",
      "bad\n",
      "bad\n",
      "bad\n",
      "bad\n",
      "bad\n",
      "bad\n",
      "bad\n",
      "bad\n",
      "bad\n",
      "bad\n",
      "bad\n",
      "bad\n",
      "bad\n",
      "bad\n",
      "bad\n",
      "bad\n",
      "bad\n",
      "bad\n",
      "bad\n",
      "bad\n",
      "bad\n",
      "bad\n",
      "good\n",
      "good\n",
      "good\n",
      "good\n",
      "good\n",
      "good\n"
     ]
    }
   ],
   "source": [
    "# loop over the frames from the video stream\n",
    "# and press the space bar when the fist is detected\n",
    "while True:\n",
    "    # grab the frame from the threaded video stream and resize it\n",
    "    # to have a maximum width of 400 pixels\n",
    "    frame = vs.read()\n",
    "    frame = imutils.resize(frame, width=400)\n",
    "\n",
    "    # convert the frame to grayscale\n",
    "    gray = cv2.cvtColor(frame, cv2.COLOR_BGR2GRAY)\n",
    "\n",
    "    # detect the left hand in the grayscale frame\n",
    "    left = left_hand.detectMultiScale(gray, 1.3, 5)\n",
    "\n",
    "    # detect the right hand in the grayscale frame\n",
    "    right = right_hand.detectMultiScale(gray, 1.3, 5)\n",
    "\n",
    "    # detect the palm in the grayscale frame\n",
    "    palm = palm_.detectMultiScale(gray, 1.3, 5)\n",
    "\n",
    "    # detect the fist in the grayscale frame\n",
    "    fist = fist_.detectMultiScale(gray, 1.3, 5)\n",
    "\n",
    "    # draw a rectangle around the left hand\n",
    "    for (x, y, w, h) in left:\n",
    "        cv2.rectangle(frame, (x, y), (x + w, y + h), (255, 0, 0), 2)\n",
    "\n",
    "    # draw a rectangle around the right hand\n",
    "    for (x, y, w, h) in right:\n",
    "        cv2.rectangle(frame, (x, y), (x + w, y + h), (0, 255, 0), 2)\n",
    "\n",
    "    # draw a rectangle around the palm\n",
    "    for (x, y, w, h) in palm:\n",
    "        cv2.rectangle(frame, (x, y), (x + w, y + h), (0, 0, 255), 2)\n",
    "        cv2.rectangle(frame, (x, y), (x + 40, y - 15), (0, 0, 255), -1)\n",
    "        cv2.putText(frame, 'Palm', (x, y), cv2.FONT_HERSHEY_SIMPLEX, 1, (0, 0, 255), 2, cv2.LINE_AA)\n",
    "        press_right()\n",
    "\n",
    "    # draw a rectangle around the fist\n",
    "    for (x, y, w, h) in fist:\n",
    "        cv2.rectangle(frame, (x, y), (x + w, y + h), (0, 255, 255), 2)\n",
    "        cv2.rectangle(frame, (x, y), (x + 40, y - 15), (0, 255, 255), -1)\n",
    "        cv2.putText(frame, 'Fist', (x, y), cv2.FONT_HERSHEY_SIMPLEX, 1, (0, 255, 255), 2, cv2.LINE_AA)\n",
    "        press_left()\n",
    "\n",
    "    # show the output frame\n",
    "    cv2.imshow(\"Frame\", frame)\n",
    "    key = cv2.waitKey(1) & 0xFF\n",
    "\n",
    "    # if the `q` key was pressed, break from the loop\n",
    "    if key == ord(\"q\"):\n",
    "        break\n",
    "\n",
    "# do a bit of cleanup\n",
    "cv2.destroyAllWindows()\n",
    "vs.stop()\n"
   ]
  },
  {
   "cell_type": "code",
   "execution_count": 18,
   "metadata": {},
   "outputs": [],
   "source": [
    "# driver.close()"
   ]
  },
  {
   "cell_type": "code",
   "execution_count": 2,
   "metadata": {},
   "outputs": [
    {
     "name": "stderr",
     "output_type": "stream",
     "text": [
      "UsageError: Line magic function `%%timeit` not found.\n"
     ]
    }
   ],
   "source": [
    "\n",
    "# find the frequency of each letter in a word with collections\n",
    "from collections import Counter\n",
    "\n",
    "def frequency(word):\n",
    "    \"\"\"\n",
    "    find the frequency of each letter in a word\n",
    "    \"\"\"\n",
    "    return Counter(word).items()\n",
    "%%timeit print(dict(frequency('mississippi')))\n",
    "\n",
    "# check if any value in the dict is 2\n",
    "def check_2(dict_):\n",
    "    \"\"\"\n",
    "    check if any value in the dict is 2\n",
    "    \"\"\"\n",
    "    return 2 in dict_.values()\n",
    "print(check_2(dict(frequency('mississippi'))))"
   ]
  }
 ],
 "metadata": {
  "kernelspec": {
   "display_name": "ImageProcessing",
   "language": "python",
   "name": "python3"
  },
  "language_info": {
   "codemirror_mode": {
    "name": "ipython",
    "version": 3
   },
   "file_extension": ".py",
   "mimetype": "text/x-python",
   "name": "python",
   "nbconvert_exporter": "python",
   "pygments_lexer": "ipython3",
   "version": "3.10.4"
  },
  "orig_nbformat": 4,
  "vscode": {
   "interpreter": {
    "hash": "debc2121511f37620e4e406b8e25acf7be96315b8b48c387eff272a1baf02ae1"
   }
  }
 },
 "nbformat": 4,
 "nbformat_minor": 2
}
